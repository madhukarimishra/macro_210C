{
 "cells": [
  {
   "cell_type": "code",
   "execution_count": 45,
   "metadata": {},
   "outputs": [],
   "source": [
    "import numpy as np\n",
    "import scipy as sp\n",
    "import matplotlib.pyplot as plt\n",
    "import scipy.sparse \n",
    "import scipy.sparse.linalg"
   ]
  },
  {
   "cell_type": "code",
   "execution_count": 46,
   "metadata": {},
   "outputs": [],
   "source": [
    "# Parameters : γ = 1,φ = 1,χ = 1,β = 0.99,ρ = 0.99 \n",
    "# ν varies, simply add diffrent iterations i guess? ν = {0.25, 0.5, 0.75, 1}\n",
    "# NOTE : I am aware that I have to use the values function to loop over, \n",
    "# but I have limited time so will just do this manually for now \n",
    "\n",
    "gamma = 1\n",
    "phi = 1\n",
    "chi = 1\n",
    "beta = 0.99\n",
    "rho = 0.99\n",
    "T = 100\n",
    "nu = 0.25\n",
    "\n"
   ]
  },
  {
   "cell_type": "markdown",
   "metadata": {},
   "source": [
    "Next we set up the matrices in the market clearing block, which we use to construct  ∂𝐇/∂𝐘 ."
   ]
  },
  {
   "cell_type": "code",
   "execution_count": 47,
   "metadata": {},
   "outputs": [],
   "source": [
    "# define sparse identity, above-diagonal sparse matrix, below-diagonal sparse matrix, and zero matrix\n",
    "\n",
    "I = sp.sparse.eye(T)\n",
    "Ip1 = sp.sparse.diags([np.ones(T-1)], [1], (T, T))\n",
    "Im1 = sp.sparse.diags([np.ones(T-1)], [-1], (T, T))\n",
    "Z = sp.sparse.csr_matrix((T, T))\n",
    "A = sp.sparse.csr_matrix((T, T)) #unsure how to define A \n",
    "\n",
    "\n",
    "# market clearing block: goods market clearing\n",
    "\n",
    "Phigmc = I\n",
    "Phigmy = -I\n",
    "Phigmx = Z\n",
    "Phigmwp = Z\n",
    "Phigmmp = Z\n",
    "Phigmq = Z\n",
    "\n",
    "# market clearing block: Euler equation\n",
    "Phieulc = nu * I - nu * Ip1\n",
    "Phieuli = Z\n",
    "Phieuly = Z\n",
    "Phieulrk = nu * I - gamma*I \n",
    "Phieulwp = Z\n",
    "\n",
    "# combine matrix blocks in a single sparse matrix with the following structure:\n",
    "# [Phigmc Phigmi Phigmy Phigmrk Phigmwp]\n",
    "# [Phieulc Phieuli Phieuly Phieulrk Phieulwp]\n",
    "dHdY = sp.sparse.bmat([[Phigmc, Phigmy, Phigmx, Phigmwp, Phigmmp],\n",
    "                       [Phieulc, Phieuli, Phieuly, Phieulrk, Phieulwp]])\n",
    "\n",
    "assert dHdY.shape == (2*T, 5*T)"
   ]
  },
  {
   "cell_type": "markdown",
   "metadata": {},
   "source": [
    "Next we construct  ∂𝐘/∂𝐔  and  ∂𝐘/∂𝐙  using the blocks. Start with the firm block. Also adding the bond market "
   ]
  },
  {
   "cell_type": "code",
   "execution_count": 49,
   "metadata": {},
   "outputs": [
    {
     "ename": "TypeError",
     "evalue": "unsupported operand type(s) for /: 'int' and 'csr_matrix'",
     "output_type": "error",
     "traceback": [
      "\u001b[0;31m---------------------------------------------------------------------------\u001b[0m",
      "\u001b[0;31mTypeError\u001b[0m                                 Traceback (most recent call last)",
      "\u001b[0;32m<ipython-input-49-e808184230fa>\u001b[0m in \u001b[0;36m<module>\u001b[0;34m\u001b[0m\n\u001b[1;32m     11\u001b[0m \u001b[0;31m# household block matrix: labor supply\u001b[0m\u001b[0;34m\u001b[0m\u001b[0;34m\u001b[0m\u001b[0;34m\u001b[0m\u001b[0m\n\u001b[1;32m     12\u001b[0m \u001b[0mPhica\u001b[0m \u001b[0;34m=\u001b[0m \u001b[0;36m1\u001b[0m\u001b[0;34m/\u001b[0m\u001b[0mgamma\u001b[0m \u001b[0;34m*\u001b[0m \u001b[0mPhiwpm\u001b[0m\u001b[0;34m\u001b[0m\u001b[0;34m\u001b[0m\u001b[0m\n\u001b[0;32m---> 13\u001b[0;31m \u001b[0mPhick\u001b[0m \u001b[0;34m=\u001b[0m \u001b[0;34m(\u001b[0m\u001b[0;36m1\u001b[0m\u001b[0;34m/\u001b[0m\u001b[0mA\u001b[0m\u001b[0;34m)\u001b[0m \u001b[0;34m*\u001b[0m \u001b[0mphi\u001b[0m\u001b[0;34m*\u001b[0m\u001b[0mI\u001b[0m \u001b[0;34m-\u001b[0m \u001b[0;34m(\u001b[0m\u001b[0;36m1\u001b[0m\u001b[0;34m/\u001b[0m\u001b[0mA\u001b[0m\u001b[0;34m)\u001b[0m\u001b[0;34m*\u001b[0m\u001b[0mPhiwpm\u001b[0m\u001b[0;34m\u001b[0m\u001b[0;34m\u001b[0m\u001b[0m\n\u001b[0m\u001b[1;32m     14\u001b[0m \u001b[0mPhicn\u001b[0m \u001b[0;34m=\u001b[0m \u001b[0mZ\u001b[0m\u001b[0;34m\u001b[0m\u001b[0;34m\u001b[0m\u001b[0m\n\u001b[1;32m     15\u001b[0m \u001b[0;34m\u001b[0m\u001b[0m\n",
      "\u001b[0;31mTypeError\u001b[0m: unsupported operand type(s) for /: 'int' and 'csr_matrix'"
     ]
    }
   ],
   "source": [
    "# firm block matrices: output\n",
    "Phiyn = I\n",
    "Phiym = Z\n",
    "Phiyp = Z\n",
    "\n",
    "# firm block matrices: labor demand\n",
    "Phiwpm = Z\n",
    "Phiwpp = Z\n",
    "Phiwpn = Z\n",
    "\n",
    "# household block matrix: labor supply\n",
    "Phica = 1/gamma * Phiwpm\n",
    "Phick = (1/A) * phi*I - (1/A)*Phiwpm\n",
    "Phicn = Z\n",
    "\n",
    "\n",
    "# there is a Phix() function that goes in to the bond makrket equations but I don't know how to calculate c for it \n",
    "#bond market \n",
    "\n",
    "Phiqm =nu*I*Phica - (nu-gamma)*I*Phigmx\n",
    "Phiqn = nu*I*Phicn - (nu-gamma)*I*Phigmn\n",
    "\n",
    "# combine firm matrices in the following format:\n",
    "# [Phiyk Phiyn]\n",
    "# [Phirkk Phirkn]\n",
    "# [Phiwpk Phiwpn]\n",
    "dYFdU = sp.sparse.bmat([[Phiym, Phiyn],\n",
    "                        [Phirkk, Phirkn],\n",
    "                        [Phiwpm, Phiwpn],\n",
    "                       ])\n",
    "\n",
    "# combine firm matrices in the following format:\n",
    "# [Phiya]\n",
    "# [Phiwpa]\n",
    "# [Phirka]\n",
    "dYFdZ = sp.sparse.bmat([[Phiya],\n",
    "                       [Phirka],\n",
    "                       [Phiwpa]])\n",
    "\n",
    "assert dYFdU.shape == (3*T, 2*T)\n",
    "assert dYFdZ.shape == (3*T, T)"
   ]
  },
  {
   "cell_type": "code",
   "execution_count": 49,
   "metadata": {},
   "outputs": [
    {
     "ename": "TypeError",
     "evalue": "unsupported operand type(s) for /: 'int' and 'csr_matrix'",
     "output_type": "error",
     "traceback": [
      "\u001b[0;31m---------------------------------------------------------------------------\u001b[0m",
      "\u001b[0;31mTypeError\u001b[0m                                 Traceback (most recent call last)",
      "\u001b[0;32m<ipython-input-49-e808184230fa>\u001b[0m in \u001b[0;36m<module>\u001b[0;34m\u001b[0m\n\u001b[1;32m     11\u001b[0m \u001b[0;31m# household block matrix: labor supply\u001b[0m\u001b[0;34m\u001b[0m\u001b[0;34m\u001b[0m\u001b[0;34m\u001b[0m\u001b[0m\n\u001b[1;32m     12\u001b[0m \u001b[0mPhica\u001b[0m \u001b[0;34m=\u001b[0m \u001b[0;36m1\u001b[0m\u001b[0;34m/\u001b[0m\u001b[0mgamma\u001b[0m \u001b[0;34m*\u001b[0m \u001b[0mPhiwpm\u001b[0m\u001b[0;34m\u001b[0m\u001b[0;34m\u001b[0m\u001b[0m\n\u001b[0;32m---> 13\u001b[0;31m \u001b[0mPhick\u001b[0m \u001b[0;34m=\u001b[0m \u001b[0;34m(\u001b[0m\u001b[0;36m1\u001b[0m\u001b[0;34m/\u001b[0m\u001b[0mA\u001b[0m\u001b[0;34m)\u001b[0m \u001b[0;34m*\u001b[0m \u001b[0mphi\u001b[0m\u001b[0;34m*\u001b[0m\u001b[0mI\u001b[0m \u001b[0;34m-\u001b[0m \u001b[0;34m(\u001b[0m\u001b[0;36m1\u001b[0m\u001b[0;34m/\u001b[0m\u001b[0mA\u001b[0m\u001b[0;34m)\u001b[0m\u001b[0;34m*\u001b[0m\u001b[0mPhiwpm\u001b[0m\u001b[0;34m\u001b[0m\u001b[0;34m\u001b[0m\u001b[0m\n\u001b[0m\u001b[1;32m     14\u001b[0m \u001b[0mPhicn\u001b[0m \u001b[0;34m=\u001b[0m \u001b[0mZ\u001b[0m\u001b[0;34m\u001b[0m\u001b[0;34m\u001b[0m\u001b[0m\n\u001b[1;32m     15\u001b[0m \u001b[0;34m\u001b[0m\u001b[0m\n",
      "\u001b[0;31mTypeError\u001b[0m: unsupported operand type(s) for /: 'int' and 'csr_matrix'"
     ]
    }
   ],
   "source": [
    "# firm block matrices: output\n",
    "Phiyn = I\n",
    "Phiym = Z\n",
    "Phiyp = Z\n",
    "\n",
    "# firm block matrices: labor demand\n",
    "Phiwpm = Z\n",
    "Phiwpp = Z\n",
    "Phiwpn = Z\n",
    "\n",
    "# household block matrix: labor supply\n",
    "Phica = 1/gamma * Phiwpm\n",
    "Phick = (1/A) * phi*I - (1/A)*Phiwpm\n",
    "Phicn = Z\n",
    "\n",
    "\n",
    "# there is a Phix() function that goes in to the bond makrket equations but I don't know how to calculate c for it \n",
    "#bond market \n",
    "\n",
    "Phiqm =nu*I*Phica - (nu-gamma)*I*Phigmx\n",
    "Phiqn = nu*I*Phicn - (nu-gamma)*I*Phigmn\n",
    "\n",
    "# combine firm matrices in the following format:\n",
    "# [Phiyk Phiyn]\n",
    "# [Phirkk Phirkn]\n",
    "# [Phiwpk Phiwpn]\n",
    "dYFdU = sp.sparse.bmat([[Phiym, Phiyn],\n",
    "                        [Phirkk, Phirkn],\n",
    "                        [Phiwpm, Phiwpn],\n",
    "                       ])\n",
    "\n",
    "# combine firm matrices in the following format:\n",
    "# [Phiya]\n",
    "# [Phiwpa]\n",
    "# [Phirka]\n",
    "dYFdZ = sp.sparse.bmat([[Phiya],\n",
    "                       [Phirka],\n",
    "                       [Phiwpa]])\n",
    "\n",
    "assert dYFdU.shape == (3*T, 2*T)\n",
    "assert dYFdZ.shape == (3*T, T)"
   ]
  },
  {
   "cell_type": "markdown",
   "metadata": {},
   "source": [
    " household block"
   ]
  },
  {
   "cell_type": "code",
   "execution_count": 50,
   "metadata": {},
   "outputs": [
    {
     "ename": "TypeError",
     "evalue": "unsupported operand type(s) for /: 'int' and 'csr_matrix'",
     "output_type": "error",
     "traceback": [
      "\u001b[0;31m---------------------------------------------------------------------------\u001b[0m",
      "\u001b[0;31mTypeError\u001b[0m                                 Traceback (most recent call last)",
      "\u001b[0;32m<ipython-input-50-8263c507975a>\u001b[0m in \u001b[0;36m<module>\u001b[0;34m\u001b[0m\n\u001b[1;32m      1\u001b[0m \u001b[0;31m# household block matrix: labor supply\u001b[0m\u001b[0;34m\u001b[0m\u001b[0;34m\u001b[0m\u001b[0;34m\u001b[0m\u001b[0m\n\u001b[1;32m      2\u001b[0m \u001b[0mPhica\u001b[0m \u001b[0;34m=\u001b[0m \u001b[0;36m1\u001b[0m\u001b[0;34m/\u001b[0m\u001b[0mgamma\u001b[0m \u001b[0;34m*\u001b[0m \u001b[0mPhiwpm\u001b[0m\u001b[0;34m\u001b[0m\u001b[0;34m\u001b[0m\u001b[0m\n\u001b[0;32m----> 3\u001b[0;31m \u001b[0mPhick\u001b[0m \u001b[0;34m=\u001b[0m \u001b[0;36m1\u001b[0m\u001b[0;34m/\u001b[0m\u001b[0mA\u001b[0m \u001b[0;34m*\u001b[0m \u001b[0mphi\u001b[0m\u001b[0;34m*\u001b[0m\u001b[0mI\u001b[0m \u001b[0;34m-\u001b[0m \u001b[0;36m1\u001b[0m\u001b[0;34m/\u001b[0m\u001b[0mA\u001b[0m\u001b[0;34m*\u001b[0m\u001b[0mPhiwpm\u001b[0m\u001b[0;34m\u001b[0m\u001b[0;34m\u001b[0m\u001b[0m\n\u001b[0m\u001b[1;32m      4\u001b[0m \u001b[0mPhicn\u001b[0m \u001b[0;34m=\u001b[0m \u001b[0mZ\u001b[0m\u001b[0;34m\u001b[0m\u001b[0;34m\u001b[0m\u001b[0m\n\u001b[1;32m      5\u001b[0m \u001b[0;34m\u001b[0m\u001b[0m\n",
      "\u001b[0;31mTypeError\u001b[0m: unsupported operand type(s) for /: 'int' and 'csr_matrix'"
     ]
    }
   ],
   "source": [
    "# household block matrix: labor supply\n",
    "Phica = 1/gamma * Phiwpm\n",
    "Phick = 1/A * phi*I - 1/A*Phiwpm\n",
    "Phicn = Z\n",
    "\n",
    "# household block matrix: capital accumulation equation\n",
    "Phiia = Z\n",
    "Phiik = (delta - 1) / delta * Im1 + 1 / delta * I\n",
    "Phiin = Z\n",
    "\n",
    "# combine household matrices in the following format:\n",
    "# [Phick Phicn]\n",
    "# [Phiik Phiin]\n",
    "dYHdU = sp.sparse.bmat([[Phick, Phicn],\n",
    "                       [Phiik, Phiin]])\n",
    "\n",
    "# combine household matrices in the following format:\n",
    "# [Phick Phicn]\n",
    "# [Phiik Phiin]\n",
    "dYHdZ = sp.sparse.bmat([[Phica],\n",
    "                       [Phiia]])\n",
    "\n",
    "assert dYHdU.shape == (2*T, 2*T)\n",
    "assert dYHdZ.shape == (2*T, T)"
   ]
  },
  {
   "cell_type": "markdown",
   "metadata": {},
   "source": [
    "stack the household block on top of the firm block to get  ∂𝐘/∂𝐔  and  ∂𝐘/∂𝐙 ."
   ]
  },
  {
   "cell_type": "code",
   "execution_count": 51,
   "metadata": {},
   "outputs": [
    {
     "ename": "NameError",
     "evalue": "name 'dYHdU' is not defined",
     "output_type": "error",
     "traceback": [
      "\u001b[0;31m---------------------------------------------------------------------------\u001b[0m",
      "\u001b[0;31mNameError\u001b[0m                                 Traceback (most recent call last)",
      "\u001b[0;32m<ipython-input-51-f1d4791c02bb>\u001b[0m in \u001b[0;36m<module>\u001b[0;34m\u001b[0m\n\u001b[1;32m      1\u001b[0m \u001b[0;31m# stack dYHdU on top of dYFdU to get dYdU\u001b[0m\u001b[0;34m\u001b[0m\u001b[0;34m\u001b[0m\u001b[0;34m\u001b[0m\u001b[0m\n\u001b[0;32m----> 2\u001b[0;31m dYdU = sp.sparse.bmat([[dYHdU],\n\u001b[0m\u001b[1;32m      3\u001b[0m                       [dYFdU]])\n\u001b[1;32m      4\u001b[0m \u001b[0;34m\u001b[0m\u001b[0m\n\u001b[1;32m      5\u001b[0m \u001b[0;31m# stack dYHdZ on top of dYFdZ to get dYdZ\u001b[0m\u001b[0;34m\u001b[0m\u001b[0;34m\u001b[0m\u001b[0;34m\u001b[0m\u001b[0m\n",
      "\u001b[0;31mNameError\u001b[0m: name 'dYHdU' is not defined"
     ]
    }
   ],
   "source": [
    "# stack dYHdU on top of dYFdU to get dYdU\n",
    "dYdU = sp.sparse.bmat([[dYHdU],\n",
    "                      [dYFdU]])\n",
    "\n",
    "# stack dYHdZ on top of dYFdZ to get dYdZ\n",
    "dYdZ = sp.sparse.bmat([[dYHdZ],\n",
    "                      [dYFdZ]])\n",
    "\n",
    "assert dYdU.shape == (5*T, 2*T)\n",
    "assert dYdZ.shape == (5*T, T)"
   ]
  },
  {
   "cell_type": "markdown",
   "metadata": {},
   "source": [
    "solution"
   ]
  },
  {
   "cell_type": "code",
   "execution_count": 52,
   "metadata": {},
   "outputs": [
    {
     "ename": "NameError",
     "evalue": "name 'dYdU' is not defined",
     "output_type": "error",
     "traceback": [
      "\u001b[0;31m---------------------------------------------------------------------------\u001b[0m",
      "\u001b[0;31mNameError\u001b[0m                                 Traceback (most recent call last)",
      "\u001b[0;32m<ipython-input-52-51165e133f6a>\u001b[0m in \u001b[0;36m<module>\u001b[0;34m\u001b[0m\n\u001b[1;32m      1\u001b[0m \u001b[0;31m# compute dHdU using the chain rule dHdU = dHdY @ dYdU (@ is the python matrix multiplication operator)\u001b[0m\u001b[0;34m\u001b[0m\u001b[0;34m\u001b[0m\u001b[0;34m\u001b[0m\u001b[0m\n\u001b[0;32m----> 2\u001b[0;31m \u001b[0mdHdU\u001b[0m \u001b[0;34m=\u001b[0m \u001b[0mdHdY\u001b[0m \u001b[0;34m@\u001b[0m \u001b[0mdYdU\u001b[0m\u001b[0;34m\u001b[0m\u001b[0;34m\u001b[0m\u001b[0m\n\u001b[0m\u001b[1;32m      3\u001b[0m \u001b[0;34m\u001b[0m\u001b[0m\n\u001b[1;32m      4\u001b[0m \u001b[0;31m# compute dHdZ using the chain rule dHdZ = dHdY @ dYdZ (@ is the python matrix multiplication operator)\u001b[0m\u001b[0;34m\u001b[0m\u001b[0;34m\u001b[0m\u001b[0;34m\u001b[0m\u001b[0m\n\u001b[1;32m      5\u001b[0m \u001b[0mdHdZ\u001b[0m \u001b[0;34m=\u001b[0m \u001b[0mdHdY\u001b[0m \u001b[0;34m@\u001b[0m \u001b[0mdYdZ\u001b[0m\u001b[0;34m\u001b[0m\u001b[0;34m\u001b[0m\u001b[0m\n",
      "\u001b[0;31mNameError\u001b[0m: name 'dYdU' is not defined"
     ]
    }
   ],
   "source": [
    "# compute dHdU using the chain rule dHdU = dHdY @ dYdU (@ is the python matrix multiplication operator)\n",
    "dHdU = dHdY @ dYdU \n",
    "\n",
    "# compute dHdZ using the chain rule dHdZ = dHdY @ dYdZ (@ is the python matrix multiplication operator)\n",
    "dHdZ = dHdY @ dYdZ\n",
    "\n",
    "assert sp.sparse.issparse(dHdZ) == True\n",
    "assert sp.sparse.issparse(dHdU) == True\n",
    "\n",
    "assert dHdU.shape == (2*T, 2*T)\n",
    "assert dHdZ.shape == (2*T, T)\n",
    "\n",
    "# compute the Jacobian of the model\n",
    "dUdZ = - sp.sparse.linalg.spsolve(dHdU, dHdZ)\n",
    "dYdZ = dYdU @ dUdZ + dYdZ\n",
    "\n",
    "dXdZ = sp.sparse.bmat([[dUdZ],\n",
    "                      [dYdZ]])\n",
    "\n",
    "assert dUdZ.shape == (2*T, T)\n",
    "assert dYdZ.shape == (5*T, T)\n",
    "assert dXdZ.shape == (7*T, T)"
   ]
  },
  {
   "cell_type": "code",
   "execution_count": null,
   "metadata": {},
   "outputs": [],
   "source": []
  }
 ],
 "metadata": {
  "kernelspec": {
   "display_name": "Python 3",
   "language": "python",
   "name": "python3"
  },
  "language_info": {
   "codemirror_mode": {
    "name": "ipython",
    "version": 3
   },
   "file_extension": ".py",
   "mimetype": "text/x-python",
   "name": "python",
   "nbconvert_exporter": "python",
   "pygments_lexer": "ipython3",
   "version": "3.8.3"
  }
 },
 "nbformat": 4,
 "nbformat_minor": 4
}
